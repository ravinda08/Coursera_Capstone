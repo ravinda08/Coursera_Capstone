{
    "cells": [
        {
            "metadata": {
                "collapsed": true
            },
            "cell_type": "markdown",
            "source": "<h1>Data</h1>"
        },
        {
            "metadata": {},
            "cell_type": "markdown",
            "source": "For this project we need the following data :"
        },
        {
            "metadata": {},
            "cell_type": "markdown",
            "source": "<b>New York City data that contains list Boroughs, Neighborhoods along with their latitude and longitude. </b>\n<ol><li>Data source : <a>https://cocl.us/new_york_dataset</a></li>\n<li>Description : This data set contains the required information. And we will use this data set to explore various neighborhoods of new york city.</li>\n</ol>"
        },
        {
            "metadata": {},
            "cell_type": "markdown",
            "source": "<b>Indian resturants in each neighborhood of new york city.</b>\n<ol><li>Data source : Fousquare API</li>\n<li>Description : By using this api we will get all the venues in each neighborhood. We can filter these venues to get only indian resturants.</li>\n</ol>"
        },
        {
            "metadata": {},
            "cell_type": "markdown",
            "source": "<b>GeoSpace data</b>\n<ol><li>Data source : <a>https://data.cityofnewyork.us/City-Government/Borough-Boundaries/tqmj-j8zm</a></li>\n<li>Description : By using this geo space data we will get the New york Borough boundaries that will help us visualize choropleth map</li>\n<ol>"
        },
        {
            "metadata": {},
            "cell_type": "markdown",
            "source": "<b>Approach</b>\n<ol>\n<li>Collect the new york city data from https://cocl.us/new_york_dataset</li>\n<li>Using FourSquare API we will find all venues for each neighborhood.</li>\n<li>Filter out all venues that are Indian Resturants.</li>\n<li>Find rating , tips and like count for each Indian Resturants using FourSquare API.</li>\n<li>Using rating for each resturant , we will sort that data.</li>\n<li>Visualize the Ranking of neighborhoods using folium library(python)</li>"
        },
        {
            "metadata": {},
            "cell_type": "markdown",
            "source": "<b>Questions that can be asked using the above mentioned datasets</b>\n<ol>\n<li>What is best location in New York City for Indian Cuisine ?</li>\n<li>Which areas have potential Indian Resturant Market ?</li>\n<li>Which all areas lack Indian Resturants ?</li>\n<li>Which is the best place to stay if I prefer Indian Cuisine ?</li>\n</ol>"
        },
        {
            "metadata": {},
            "cell_type": "markdown",
            "source": "<b>Analysis</b>\n\nWe will import the required libraries for python.\n<ol>\n<li>pandas and numpy for handling data.</li>\n<li>request module for using FourSquare API.</li>\n<li>geopy to get co-ordinates of City of New York.</li>\n<li>folium to visualize the results on a map</li>\n</ol>"
        },
        {
            "metadata": {},
            "cell_type": "code",
            "source": "",
            "execution_count": null,
            "outputs": []
        }
    ],
    "metadata": {
        "kernelspec": {
            "name": "python3",
            "display_name": "Python 3.7",
            "language": "python"
        },
        "language_info": {
            "name": "python",
            "version": "3.7.9",
            "mimetype": "text/x-python",
            "codemirror_mode": {
                "name": "ipython",
                "version": 3
            },
            "pygments_lexer": "ipython3",
            "nbconvert_exporter": "python",
            "file_extension": ".py"
        }
    },
    "nbformat": 4,
    "nbformat_minor": 1
}